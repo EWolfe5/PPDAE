{
 "cells": [
  {
   "cell_type": "code",
   "execution_count": 29,
   "metadata": {},
   "outputs": [],
   "source": [
    "import os\n",
    "import numpy as np\n",
    "import pandas as pd\n",
    "import matplotlib.pyplot as plt\n",
    "import matplotlib.cm as cm\n",
    "import seaborn as sb\n",
    "\n",
    "root = os.path.dirname(os.getcwd())"
   ]
  },
  {
   "cell_type": "markdown",
   "metadata": {},
   "source": [
    "# Metadata"
   ]
  },
  {
   "cell_type": "code",
   "execution_count": 10,
   "metadata": {},
   "outputs": [
    {
     "data": {
      "text/html": [
       "<div>\n",
       "<style scoped>\n",
       "    .dataframe tbody tr th:only-of-type {\n",
       "        vertical-align: middle;\n",
       "    }\n",
       "\n",
       "    .dataframe tbody tr th {\n",
       "        vertical-align: top;\n",
       "    }\n",
       "\n",
       "    .dataframe thead th {\n",
       "        text-align: right;\n",
       "    }\n",
       "</style>\n",
       "<table border=\"1\" class=\"dataframe\">\n",
       "  <thead>\n",
       "    <tr style=\"text-align: right;\">\n",
       "      <th></th>\n",
       "      <th>m_dust</th>\n",
       "      <th>Rc</th>\n",
       "      <th>f_exp</th>\n",
       "      <th>H0</th>\n",
       "      <th>Rin</th>\n",
       "      <th>sd_exp</th>\n",
       "      <th>a_max</th>\n",
       "      <th>inc</th>\n",
       "    </tr>\n",
       "  </thead>\n",
       "  <tbody>\n",
       "    <tr>\n",
       "      <th>0</th>\n",
       "      <td>1.000000e-07</td>\n",
       "      <td>100.0</td>\n",
       "      <td>1.15</td>\n",
       "      <td>5.0</td>\n",
       "      <td>0.1</td>\n",
       "      <td>0.0</td>\n",
       "      <td>10.0</td>\n",
       "      <td>90.0</td>\n",
       "    </tr>\n",
       "    <tr>\n",
       "      <th>1</th>\n",
       "      <td>1.000000e-07</td>\n",
       "      <td>100.0</td>\n",
       "      <td>1.15</td>\n",
       "      <td>5.0</td>\n",
       "      <td>0.1</td>\n",
       "      <td>-0.5</td>\n",
       "      <td>10.0</td>\n",
       "      <td>90.0</td>\n",
       "    </tr>\n",
       "    <tr>\n",
       "      <th>2</th>\n",
       "      <td>1.000000e-07</td>\n",
       "      <td>100.0</td>\n",
       "      <td>1.15</td>\n",
       "      <td>5.0</td>\n",
       "      <td>0.1</td>\n",
       "      <td>-1.0</td>\n",
       "      <td>10.0</td>\n",
       "      <td>90.0</td>\n",
       "    </tr>\n",
       "    <tr>\n",
       "      <th>3</th>\n",
       "      <td>1.000000e-07</td>\n",
       "      <td>100.0</td>\n",
       "      <td>1.15</td>\n",
       "      <td>5.0</td>\n",
       "      <td>1.0</td>\n",
       "      <td>-0.5</td>\n",
       "      <td>10.0</td>\n",
       "      <td>90.0</td>\n",
       "    </tr>\n",
       "    <tr>\n",
       "      <th>4</th>\n",
       "      <td>1.000000e-07</td>\n",
       "      <td>100.0</td>\n",
       "      <td>1.15</td>\n",
       "      <td>5.0</td>\n",
       "      <td>1.0</td>\n",
       "      <td>-1.0</td>\n",
       "      <td>10.0</td>\n",
       "      <td>90.0</td>\n",
       "    </tr>\n",
       "  </tbody>\n",
       "</table>\n",
       "</div>"
      ],
      "text/plain": [
       "         m_dust     Rc  f_exp   H0  Rin  sd_exp  a_max   inc\n",
       "0  1.000000e-07  100.0   1.15  5.0  0.1     0.0   10.0  90.0\n",
       "1  1.000000e-07  100.0   1.15  5.0  0.1    -0.5   10.0  90.0\n",
       "2  1.000000e-07  100.0   1.15  5.0  0.1    -1.0   10.0  90.0\n",
       "3  1.000000e-07  100.0   1.15  5.0  1.0    -0.5   10.0  90.0\n",
       "4  1.000000e-07  100.0   1.15  5.0  1.0    -1.0   10.0  90.0"
      ]
     },
     "execution_count": 10,
     "metadata": {},
     "output_type": "execute_result"
    }
   ],
   "source": [
    "meta = np.load('%s/data/PPD/param_arr.npy' % (root))\n",
    "meta = pd.DataFrame(meta, columns=['m_dust', 'Rc', 'f_exp', 'H0', \n",
    "                                   'Rin', 'sd_exp', 'a_max', 'inc'])\n",
    "meta.head()"
   ]
  },
  {
   "cell_type": "code",
   "execution_count": 12,
   "metadata": {},
   "outputs": [
    {
     "name": "stdout",
     "output_type": "stream",
     "text": [
      "<class 'pandas.core.frame.DataFrame'>\n",
      "RangeIndex: 36518 entries, 0 to 36517\n",
      "Data columns (total 8 columns):\n",
      " #   Column  Non-Null Count  Dtype  \n",
      "---  ------  --------------  -----  \n",
      " 0   m_dust  36518 non-null  float64\n",
      " 1   Rc      36518 non-null  float64\n",
      " 2   f_exp   36518 non-null  float64\n",
      " 3   H0      36518 non-null  float64\n",
      " 4   Rin     36518 non-null  float64\n",
      " 5   sd_exp  36518 non-null  float64\n",
      " 6   a_max   36518 non-null  float64\n",
      " 7   inc     36518 non-null  float64\n",
      "dtypes: float64(8)\n",
      "memory usage: 2.2 MB\n"
     ]
    }
   ],
   "source": [
    "meta.info()"
   ]
  },
  {
   "cell_type": "code",
   "execution_count": 14,
   "metadata": {},
   "outputs": [
    {
     "data": {
      "text/html": [
       "<div>\n",
       "<style scoped>\n",
       "    .dataframe tbody tr th:only-of-type {\n",
       "        vertical-align: middle;\n",
       "    }\n",
       "\n",
       "    .dataframe tbody tr th {\n",
       "        vertical-align: top;\n",
       "    }\n",
       "\n",
       "    .dataframe thead th {\n",
       "        text-align: right;\n",
       "    }\n",
       "</style>\n",
       "<table border=\"1\" class=\"dataframe\">\n",
       "  <thead>\n",
       "    <tr style=\"text-align: right;\">\n",
       "      <th></th>\n",
       "      <th>m_dust</th>\n",
       "      <th>Rc</th>\n",
       "      <th>f_exp</th>\n",
       "      <th>H0</th>\n",
       "      <th>Rin</th>\n",
       "      <th>sd_exp</th>\n",
       "      <th>a_max</th>\n",
       "      <th>inc</th>\n",
       "    </tr>\n",
       "  </thead>\n",
       "  <tbody>\n",
       "    <tr>\n",
       "      <th>count</th>\n",
       "      <td>3.651800e+04</td>\n",
       "      <td>36518.000000</td>\n",
       "      <td>36518.000000</td>\n",
       "      <td>36518.000000</td>\n",
       "      <td>36518.000000</td>\n",
       "      <td>36518.000000</td>\n",
       "      <td>36518.000000</td>\n",
       "      <td>36518.000000</td>\n",
       "    </tr>\n",
       "    <tr>\n",
       "      <th>mean</th>\n",
       "      <td>4.687795e-04</td>\n",
       "      <td>141.561148</td>\n",
       "      <td>1.077674</td>\n",
       "      <td>14.604168</td>\n",
       "      <td>3.673851</td>\n",
       "      <td>-0.733200</td>\n",
       "      <td>1875.546854</td>\n",
       "      <td>82.290184</td>\n",
       "    </tr>\n",
       "    <tr>\n",
       "      <th>std</th>\n",
       "      <td>4.662241e-04</td>\n",
       "      <td>112.383466</td>\n",
       "      <td>0.165470</td>\n",
       "      <td>5.157389</td>\n",
       "      <td>4.458092</td>\n",
       "      <td>0.554319</td>\n",
       "      <td>3599.579642</td>\n",
       "      <td>7.053243</td>\n",
       "    </tr>\n",
       "    <tr>\n",
       "      <th>min</th>\n",
       "      <td>1.000000e-07</td>\n",
       "      <td>10.000000</td>\n",
       "      <td>0.850000</td>\n",
       "      <td>5.000000</td>\n",
       "      <td>0.100000</td>\n",
       "      <td>-1.500000</td>\n",
       "      <td>10.000000</td>\n",
       "      <td>52.692572</td>\n",
       "    </tr>\n",
       "    <tr>\n",
       "      <th>25%</th>\n",
       "      <td>1.000000e-04</td>\n",
       "      <td>30.000000</td>\n",
       "      <td>1.000000</td>\n",
       "      <td>10.000000</td>\n",
       "      <td>0.100000</td>\n",
       "      <td>-1.000000</td>\n",
       "      <td>10.000000</td>\n",
       "      <td>78.344277</td>\n",
       "    </tr>\n",
       "    <tr>\n",
       "      <th>50%</th>\n",
       "      <td>1.000000e-04</td>\n",
       "      <td>100.000000</td>\n",
       "      <td>1.150000</td>\n",
       "      <td>15.000000</td>\n",
       "      <td>1.000000</td>\n",
       "      <td>-0.500000</td>\n",
       "      <td>100.000000</td>\n",
       "      <td>84.202364</td>\n",
       "    </tr>\n",
       "    <tr>\n",
       "      <th>75%</th>\n",
       "      <td>1.000000e-03</td>\n",
       "      <td>300.000000</td>\n",
       "      <td>1.150000</td>\n",
       "      <td>20.000000</td>\n",
       "      <td>10.000000</td>\n",
       "      <td>0.000000</td>\n",
       "      <td>1000.000000</td>\n",
       "      <td>87.104894</td>\n",
       "    </tr>\n",
       "    <tr>\n",
       "      <th>max</th>\n",
       "      <td>1.000000e-03</td>\n",
       "      <td>300.000000</td>\n",
       "      <td>1.300000</td>\n",
       "      <td>20.000000</td>\n",
       "      <td>10.000000</td>\n",
       "      <td>0.000000</td>\n",
       "      <td>10000.000000</td>\n",
       "      <td>90.000000</td>\n",
       "    </tr>\n",
       "  </tbody>\n",
       "</table>\n",
       "</div>"
      ],
      "text/plain": [
       "             m_dust            Rc         f_exp            H0           Rin  \\\n",
       "count  3.651800e+04  36518.000000  36518.000000  36518.000000  36518.000000   \n",
       "mean   4.687795e-04    141.561148      1.077674     14.604168      3.673851   \n",
       "std    4.662241e-04    112.383466      0.165470      5.157389      4.458092   \n",
       "min    1.000000e-07     10.000000      0.850000      5.000000      0.100000   \n",
       "25%    1.000000e-04     30.000000      1.000000     10.000000      0.100000   \n",
       "50%    1.000000e-04    100.000000      1.150000     15.000000      1.000000   \n",
       "75%    1.000000e-03    300.000000      1.150000     20.000000     10.000000   \n",
       "max    1.000000e-03    300.000000      1.300000     20.000000     10.000000   \n",
       "\n",
       "             sd_exp         a_max           inc  \n",
       "count  36518.000000  36518.000000  36518.000000  \n",
       "mean      -0.733200   1875.546854     82.290184  \n",
       "std        0.554319   3599.579642      7.053243  \n",
       "min       -1.500000     10.000000     52.692572  \n",
       "25%       -1.000000     10.000000     78.344277  \n",
       "50%       -0.500000    100.000000     84.202364  \n",
       "75%        0.000000   1000.000000     87.104894  \n",
       "max        0.000000  10000.000000     90.000000  "
      ]
     },
     "execution_count": 14,
     "metadata": {},
     "output_type": "execute_result"
    }
   ],
   "source": [
    "meta.describe()"
   ]
  },
  {
   "cell_type": "code",
   "execution_count": 13,
   "metadata": {},
   "outputs": [
    {
     "data": {
      "image/png": "[encoded data removed]",
      "text/plain": [
       "<Figure size 1440x1440 with 72 Axes>"
      ]
     },
     "metadata": {
      "needs_background": "light"
     },
     "output_type": "display_data"
    }
   ],
   "source": [
    "sb.pairplot(meta)\n",
    "plt.show()"
   ]
  },
  {
   "cell_type": "markdown",
   "metadata": {},
   "source": [
    "# Synthetic Images"
   ]
  },
  {
   "cell_type": "code",
   "execution_count": 77,
   "metadata": {},
   "outputs": [
    {
     "data": {
      "text/plain": [
       "(36518, 187, 187)"
      ]
     },
     "execution_count": 77,
     "metadata": {},
     "output_type": "execute_result"
    }
   ],
   "source": [
    "imgs = np.load('%s/data/PPD/img_array.npy' % (root))\n",
    "imgs.shape"
   ]
  },
  {
   "cell_type": "code",
   "execution_count": 78,
   "metadata": {},
   "outputs": [
    {
     "data": {
      "text/plain": [
       "(0.0, 5.9015464e-16)"
      ]
     },
     "execution_count": 78,
     "metadata": {},
     "output_type": "execute_result"
    }
   ],
   "source": [
    "imgs_c = imgs + 1.\n",
    "imgs[0].min(), imgs[0].max()"
   ]
  },
  {
   "cell_type": "code",
   "execution_count": 79,
   "metadata": {},
   "outputs": [
    {
     "data": {
      "text/plain": [
       "4.191998e-18"
      ]
     },
     "execution_count": 79,
     "metadata": {},
     "output_type": "execute_result"
    }
   ],
   "source": [
    "imgs[0].std()"
   ]
  },
  {
   "cell_type": "code",
   "execution_count": 66,
   "metadata": {},
   "outputs": [],
   "source": [
    "def plot_wall(x):\n",
    "    \"\"\"Light-curves wall plot, function used during VAE training phase.\n",
    "    Figure designed and ready to be appended to W&B logger.\n",
    "\n",
    "    Parameters\n",
    "    ----------\n",
    "    xhat : numpy array\n",
    "        Array of generated light curves\n",
    "    x    : numpy array\n",
    "        List of real light curves.\n",
    "    epoch: int, optional\n",
    "        Epoch number\n",
    "\n",
    "    Returns\n",
    "    -------\n",
    "    fig\n",
    "        a matplotlib figure\n",
    "    image\n",
    "        an image version of the figure\n",
    "    \"\"\"\n",
    "\n",
    "    plt.close('all')\n",
    "    ncols = 10\n",
    "    fig, axis = plt.subplots(nrows=ncols, ncols=ncols, figsize=(ncols, ncols))\n",
    "    for i, ax in enumerate(axis.ravel()):\n",
    "        ax.imshow(x[i, :, :], interpolation='bilinear',\n",
    "                  cmap=cm.gray, origin='upper', aspect='equal')\n",
    "\n",
    "    for ax in axis.ravel():\n",
    "        ax.axes.get_xaxis().set_visible(False)\n",
    "        ax.axes.get_yaxis().set_visible(False)\n",
    "    fig.subplots_adjust(wspace=0, hspace=0)#, left=0, right=1)\n",
    "    #plt.tight_layout()\n",
    "    #fig.suptitle('Synthetic Images', fontsize=20, y=.95)\n",
    "    plt.show()\n",
    "    return"
   ]
  },
  {
   "cell_type": "code",
   "execution_count": 67,
   "metadata": {},
   "outputs": [
    {
     "data": {
      "image/png": "[encoded data removed]",
      "text/plain": [
       "<Figure size 720x720 with 100 Axes>"
      ]
     },
     "metadata": {
      "needs_background": "light"
     },
     "output_type": "display_data"
    }
   ],
   "source": [
    "idx = np.random.randint(0, imgs.shape[0], size=100)\n",
    "plot_wall(np.log10(imgs[idx]))"
   ]
  },
  {
   "cell_type": "code",
   "execution_count": 70,
   "metadata": {},
   "outputs": [
    {
     "data": {
      "text/plain": [
       "(100, 187, 187)"
      ]
     },
     "execution_count": 70,
     "metadata": {},
     "output_type": "execute_result"
    }
   ],
   "source": [
    "np.log10(imgs[idx]).shape"
   ]
  },
  {
   "cell_type": "code",
   "execution_count": 74,
   "metadata": {},
   "outputs": [
    {
     "data": {
      "text/plain": [
       "1.0"
      ]
     },
     "execution_count": 74,
     "metadata": {},
     "output_type": "execute_result"
    }
   ],
   "source": [
    "imgs[idx].min()"
   ]
  },
  {
   "cell_type": "code",
   "execution_count": null,
   "metadata": {},
   "outputs": [],
   "source": []
  }
 ],
 "metadata": {
  "kernelspec": {
   "display_name": "Pytorch",
   "language": "python",
   "name": "torch"
  },
  "language_info": {
   "codemirror_mode": {
    "name": "ipython",
    "version": 3
   },
   "file_extension": ".py",
   "mimetype": "text/x-python",
   "name": "python",
   "nbconvert_exporter": "python",
   "pygments_lexer": "ipython3",
   "version": "3.8.2"
  }
 },
 "nbformat": 4,
 "nbformat_minor": 4
}
